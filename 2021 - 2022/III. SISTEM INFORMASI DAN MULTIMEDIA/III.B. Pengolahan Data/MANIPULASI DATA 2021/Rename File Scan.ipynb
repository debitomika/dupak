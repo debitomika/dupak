{
 "cells": [
  {
   "cell_type": "code",
   "execution_count": 1,
   "metadata": {},
   "outputs": [],
   "source": [
    "import re\n",
    "import cv2\n",
    "import pytesseract\n",
    "pytesseract.pytesseract.tesseract_cmd = r'C:\\\\Program Files\\\\Tesseract-OCR\\\\tesseract.exe'"
   ]
  },
  {
   "cell_type": "code",
   "execution_count": 2,
   "metadata": {
    "scrolled": true
   },
   "outputs": [
    {
     "data": {
      "text/plain": [
       "'C:\\\\Users\\\\BPS\\\\Belajar Python'"
      ]
     },
     "execution_count": 2,
     "metadata": {},
     "output_type": "execute_result"
    }
   ],
   "source": [
    "import os\n",
    "import shutil\n",
    "\n",
    "os.getcwd() #get the current working dir"
   ]
  },
  {
   "cell_type": "code",
   "execution_count": 3,
   "metadata": {},
   "outputs": [],
   "source": [
    "scan_dir = 'C:\\\\Users\\\\BPS\\\\Belajar Python\\\\SCAN' # ganti dengan folder sumber file anda\n",
    "\n",
    "# create a dir where we want to copy and rename\n",
    "# Cukup jalankan sekali saja, jika folder sudah ada, jangan dibuat lagi\n",
    "# dest_dir = os.mkdir('C:\\\\Users\\\\BPS\\\\Belajar Python\\\\RENAME_SCAN')  # ganti dengan folder tujuan file anda\n",
    "\n",
    "dest_dir = 'C:\\\\Users\\\\BPS\\\\Belajar Python\\\\RENAME_SCAN' # ganti dengan folder tujuan file anda"
   ]
  },
  {
   "cell_type": "code",
   "execution_count": 4,
   "metadata": {},
   "outputs": [
    {
     "name": "stdout",
     "output_type": "stream",
     "text": [
      "img20210412_13071133.jpg\n",
      "img20210412_13075948.jpg\n",
      "img20210412_13081929.jpg\n",
      "img20210412_13083896.jpg\n",
      "img20210412_13085821.jpg\n",
      "img20210412_13092196.jpg\n",
      "img20210412_13094573.jpg\n",
      "img20210412_13100973.jpg\n",
      "img20210412_13103648.jpg\n",
      "img20210412_13110271.jpg\n"
     ]
    }
   ],
   "source": [
    "for subdir, dirs, files in os.walk(scan_dir):\n",
    "    for file in files:\n",
    "        if file.endswith(\".jpg\"):\n",
    "            print(file)\n",
    "            # Mendapatkan kode SLS dari text\n",
    "            img = cv2.imread(os.path.join(scan_dir,file))\n",
    "            text = pytesseract.image_to_string(img)\n",
    "#             print(text)\n",
    "            if \"Sub SLS\" in text:\n",
    "                nama_file = text.split(\"ID Wilkerstat : \",1)[1][0:14] + text.split(\"Sub SLS: \",1)[1][0:2] # nama file sesuai kode sls\n",
    "                nama_file = re.sub('[^0-9]','', nama_file) + '.jpg'\n",
    "            else :\n",
    "                nama_file = '1401' + text.split(\"1401\",1)[1][0:10] # nama file sesuai kode sls\n",
    "                nama_file = re.sub('[^0-9]','', nama_file) + '.jpg'\n",
    "        \n",
    "            # Meng-copy file ke folder tujuan rename\n",
    "            src_file = os.path.join(scan_dir, file)\n",
    "            shutil.copy(src_file, dest_dir)\n",
    "        \n",
    "            dst_file = os.path.join(dest_dir, file)\n",
    "            new_dst_file_name = os.path.join(dest_dir, nama_file)\n",
    "        \n",
    "            os.rename(dst_file, new_dst_file_name) # rename file"
   ]
  }
 ],
 "metadata": {
  "kernelspec": {
   "display_name": "Python 3 (ipykernel)",
   "language": "python",
   "name": "python3"
  },
  "language_info": {
   "codemirror_mode": {
    "name": "ipython",
    "version": 3
   },
   "file_extension": ".py",
   "mimetype": "text/x-python",
   "name": "python",
   "nbconvert_exporter": "python",
   "pygments_lexer": "ipython3",
   "version": "3.8.16"
  }
 },
 "nbformat": 4,
 "nbformat_minor": 4
}
